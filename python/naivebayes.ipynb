{
 "cells": [
  {
   "cell_type": "code",
   "execution_count": 1,
   "metadata": {},
   "outputs": [],
   "source": [
    "import pandas as pd\n",
    "import numpy as np\n",
    "#use sklearn.naive_bayes.MultinomialNB to predict\n",
    "from sklearn.model_selection import train_test_split \n",
    "from sklearn.naive_bayes import MultinomialNB\n",
    "from sklearn.feature_extraction.text import CountVectorizer\n",
    "from sklearn.metrics import accuracy_score, f1_score\n",
    "import matplotlib.pyplot as plt\n",
    "from wordcloud import WordCloud"
   ]
  },
  {
   "cell_type": "code",
   "execution_count": 2,
   "metadata": {},
   "outputs": [
    {
     "data": {
      "text/html": [
       "<div>\n",
       "<style scoped>\n",
       "    .dataframe tbody tr th:only-of-type {\n",
       "        vertical-align: middle;\n",
       "    }\n",
       "\n",
       "    .dataframe tbody tr th {\n",
       "        vertical-align: top;\n",
       "    }\n",
       "\n",
       "    .dataframe thead th {\n",
       "        text-align: right;\n",
       "    }\n",
       "</style>\n",
       "<table border=\"1\" class=\"dataframe\">\n",
       "  <thead>\n",
       "    <tr style=\"text-align: right;\">\n",
       "      <th></th>\n",
       "      <th>timestamp</th>\n",
       "      <th>post_id</th>\n",
       "      <th>subject</th>\n",
       "      <th>content</th>\n",
       "      <th>response</th>\n",
       "      <th>sentiment</th>\n",
       "    </tr>\n",
       "  </thead>\n",
       "  <tbody>\n",
       "    <tr>\n",
       "      <th>0</th>\n",
       "      <td>2024-05-22 10:10:47</td>\n",
       "      <td>1</td>\n",
       "      <td>React</td>\n",
       "      <td>sorry to bother you</td>\n",
       "      <td>happy to help</td>\n",
       "      <td>negative</td>\n",
       "    </tr>\n",
       "    <tr>\n",
       "      <th>1</th>\n",
       "      <td>2024-05-22 10:10:46</td>\n",
       "      <td>2</td>\n",
       "      <td>Git</td>\n",
       "      <td>out of left field</td>\n",
       "      <td>include me in the meeting</td>\n",
       "      <td>negative</td>\n",
       "    </tr>\n",
       "    <tr>\n",
       "      <th>2</th>\n",
       "      <td>2024-05-22 10:10:45</td>\n",
       "      <td>3</td>\n",
       "      <td>NPM</td>\n",
       "      <td>that being said</td>\n",
       "      <td>I do not know</td>\n",
       "      <td>positive</td>\n",
       "    </tr>\n",
       "    <tr>\n",
       "      <th>3</th>\n",
       "      <td>2024-05-22 10:10:44</td>\n",
       "      <td>4</td>\n",
       "      <td>Data Science</td>\n",
       "      <td>I need a partner</td>\n",
       "      <td>I do not know</td>\n",
       "      <td>positive</td>\n",
       "    </tr>\n",
       "    <tr>\n",
       "      <th>4</th>\n",
       "      <td>2024-05-22 10:10:43</td>\n",
       "      <td>5</td>\n",
       "      <td>Claim</td>\n",
       "      <td>a no-brainer</td>\n",
       "      <td>this is unrelated</td>\n",
       "      <td>positive</td>\n",
       "    </tr>\n",
       "  </tbody>\n",
       "</table>\n",
       "</div>"
      ],
      "text/plain": [
       "             timestamp  post_id       subject              content  \\\n",
       "0  2024-05-22 10:10:47        1         React  sorry to bother you   \n",
       "1  2024-05-22 10:10:46        2           Git    out of left field   \n",
       "2  2024-05-22 10:10:45        3           NPM      that being said   \n",
       "3  2024-05-22 10:10:44        4  Data Science     I need a partner   \n",
       "4  2024-05-22 10:10:43        5         Claim         a no-brainer   \n",
       "\n",
       "                    response sentiment  \n",
       "0              happy to help  negative  \n",
       "1  include me in the meeting  negative  \n",
       "2              I do not know  positive  \n",
       "3              I do not know  positive  \n",
       "4          this is unrelated  positive  "
      ]
     },
     "execution_count": 2,
     "metadata": {},
     "output_type": "execute_result"
    }
   ],
   "source": [
    "feedback = pd.read_csv('feedback_posts.csv')\n",
    "feedback.head()"
   ]
  },
  {
   "cell_type": "code",
   "execution_count": 3,
   "metadata": {},
   "outputs": [
    {
     "name": "stdout",
     "output_type": "stream",
     "text": [
      "<class 'pandas.core.frame.DataFrame'>\n",
      "RangeIndex: 1000 entries, 0 to 999\n",
      "Data columns (total 6 columns):\n",
      " #   Column     Non-Null Count  Dtype \n",
      "---  ------     --------------  ----- \n",
      " 0   timestamp  1000 non-null   object\n",
      " 1   post_id    1000 non-null   int64 \n",
      " 2   subject    1000 non-null   object\n",
      " 3   content    1000 non-null   object\n",
      " 4   response   1000 non-null   object\n",
      " 5   sentiment  1000 non-null   object\n",
      "dtypes: int64(1), object(5)\n",
      "memory usage: 47.0+ KB\n"
     ]
    }
   ],
   "source": [
    "feedback.info()"
   ]
  },
  {
   "cell_type": "code",
   "execution_count": 4,
   "metadata": {},
   "outputs": [
    {
     "data": {
      "text/html": [
       "<div>\n",
       "<style scoped>\n",
       "    .dataframe tbody tr th:only-of-type {\n",
       "        vertical-align: middle;\n",
       "    }\n",
       "\n",
       "    .dataframe tbody tr th {\n",
       "        vertical-align: top;\n",
       "    }\n",
       "\n",
       "    .dataframe thead th {\n",
       "        text-align: right;\n",
       "    }\n",
       "</style>\n",
       "<table border=\"1\" class=\"dataframe\">\n",
       "  <thead>\n",
       "    <tr style=\"text-align: right;\">\n",
       "      <th></th>\n",
       "      <th>content</th>\n",
       "      <th>sentiment</th>\n",
       "    </tr>\n",
       "  </thead>\n",
       "  <tbody>\n",
       "    <tr>\n",
       "      <th>0</th>\n",
       "      <td>sorry to bother you</td>\n",
       "      <td>negative</td>\n",
       "    </tr>\n",
       "    <tr>\n",
       "      <th>1</th>\n",
       "      <td>out of left field</td>\n",
       "      <td>negative</td>\n",
       "    </tr>\n",
       "    <tr>\n",
       "      <th>2</th>\n",
       "      <td>that being said</td>\n",
       "      <td>positive</td>\n",
       "    </tr>\n",
       "    <tr>\n",
       "      <th>3</th>\n",
       "      <td>I need a partner</td>\n",
       "      <td>positive</td>\n",
       "    </tr>\n",
       "    <tr>\n",
       "      <th>4</th>\n",
       "      <td>a no-brainer</td>\n",
       "      <td>positive</td>\n",
       "    </tr>\n",
       "    <tr>\n",
       "      <th>...</th>\n",
       "      <td>...</td>\n",
       "      <td>...</td>\n",
       "    </tr>\n",
       "    <tr>\n",
       "      <th>995</th>\n",
       "      <td>sorry to bother you</td>\n",
       "      <td>negative</td>\n",
       "    </tr>\n",
       "    <tr>\n",
       "      <th>996</th>\n",
       "      <td>that being said</td>\n",
       "      <td>negative</td>\n",
       "    </tr>\n",
       "    <tr>\n",
       "      <th>997</th>\n",
       "      <td>this is exhausting</td>\n",
       "      <td>negative</td>\n",
       "    </tr>\n",
       "    <tr>\n",
       "      <th>998</th>\n",
       "      <td>at the end of the day</td>\n",
       "      <td>positive</td>\n",
       "    </tr>\n",
       "    <tr>\n",
       "      <th>999</th>\n",
       "      <td>we will circle back</td>\n",
       "      <td>negative</td>\n",
       "    </tr>\n",
       "  </tbody>\n",
       "</table>\n",
       "<p>1000 rows × 2 columns</p>\n",
       "</div>"
      ],
      "text/plain": [
       "                   content sentiment\n",
       "0      sorry to bother you  negative\n",
       "1        out of left field  negative\n",
       "2          that being said  positive\n",
       "3         I need a partner  positive\n",
       "4             a no-brainer  positive\n",
       "..                     ...       ...\n",
       "995    sorry to bother you  negative\n",
       "996        that being said  negative\n",
       "997     this is exhausting  negative\n",
       "998  at the end of the day  positive\n",
       "999    we will circle back  negative\n",
       "\n",
       "[1000 rows x 2 columns]"
      ]
     },
     "execution_count": 4,
     "metadata": {},
     "output_type": "execute_result"
    }
   ],
   "source": [
    "#Make new dataframe with just homeworld and unit type\n",
    "subcont = feedback[['content', 'sentiment']].copy()\n",
    "subcont"
   ]
  },
  {
   "cell_type": "code",
   "execution_count": 5,
   "metadata": {},
   "outputs": [
    {
     "data": {
      "text/html": [
       "<div>\n",
       "<style scoped>\n",
       "    .dataframe tbody tr th:only-of-type {\n",
       "        vertical-align: middle;\n",
       "    }\n",
       "\n",
       "    .dataframe tbody tr th {\n",
       "        vertical-align: top;\n",
       "    }\n",
       "\n",
       "    .dataframe thead th {\n",
       "        text-align: right;\n",
       "    }\n",
       "</style>\n",
       "<table border=\"1\" class=\"dataframe\">\n",
       "  <thead>\n",
       "    <tr style=\"text-align: right;\">\n",
       "      <th></th>\n",
       "      <th>content</th>\n",
       "      <th>sentiment</th>\n",
       "    </tr>\n",
       "  </thead>\n",
       "  <tbody>\n",
       "    <tr>\n",
       "      <th>0</th>\n",
       "      <td>sorry to bother you</td>\n",
       "      <td>0</td>\n",
       "    </tr>\n",
       "    <tr>\n",
       "      <th>1</th>\n",
       "      <td>out of left field</td>\n",
       "      <td>0</td>\n",
       "    </tr>\n",
       "    <tr>\n",
       "      <th>2</th>\n",
       "      <td>that being said</td>\n",
       "      <td>1</td>\n",
       "    </tr>\n",
       "    <tr>\n",
       "      <th>3</th>\n",
       "      <td>I need a partner</td>\n",
       "      <td>1</td>\n",
       "    </tr>\n",
       "    <tr>\n",
       "      <th>4</th>\n",
       "      <td>a no-brainer</td>\n",
       "      <td>1</td>\n",
       "    </tr>\n",
       "  </tbody>\n",
       "</table>\n",
       "</div>"
      ],
      "text/plain": [
       "               content sentiment\n",
       "0  sorry to bother you         0\n",
       "1    out of left field         0\n",
       "2      that being said         1\n",
       "3     I need a partner         1\n",
       "4         a no-brainer         1"
      ]
     },
     "execution_count": 5,
     "metadata": {},
     "output_type": "execute_result"
    }
   ],
   "source": [
    "#subcont['sentiment'] = np.where(subcont['sentiment'] == 'positive', 1, 0)\n",
    "#subcont.head()\n",
    "\n",
    "subcont[subcont[['sentiment']] == 'positive'] = 1\n",
    "subcont[subcont[['sentiment']] == 'negative'] = 0\n",
    "\n",
    "subcont.head()\n"
   ]
  },
  {
   "cell_type": "code",
   "execution_count": 6,
   "metadata": {},
   "outputs": [
    {
     "name": "stdout",
     "output_type": "stream",
     "text": [
      "<class 'pandas.core.frame.DataFrame'>\n",
      "RangeIndex: 1000 entries, 0 to 999\n",
      "Data columns (total 2 columns):\n",
      " #   Column     Non-Null Count  Dtype \n",
      "---  ------     --------------  ----- \n",
      " 0   content    1000 non-null   object\n",
      " 1   sentiment  1000 non-null   object\n",
      "dtypes: object(2)\n",
      "memory usage: 15.8+ KB\n"
     ]
    }
   ],
   "source": [
    "subcont.info()"
   ]
  },
  {
   "cell_type": "code",
   "execution_count": 7,
   "metadata": {},
   "outputs": [
    {
     "data": {
      "text/plain": [
       "content      object\n",
       "sentiment     int32\n",
       "dtype: object"
      ]
     },
     "execution_count": 7,
     "metadata": {},
     "output_type": "execute_result"
    }
   ],
   "source": [
    "subcont.astype({'sentiment': 'int32'}).dtypes"
   ]
  },
  {
   "cell_type": "code",
   "execution_count": 8,
   "metadata": {},
   "outputs": [],
   "source": [
    "#Split data into training set and test set\n",
    "X_train, X_test, y_train, y_test = train_test_split(subcont['content'], subcont['sentiment'], test_size = 0.2, random_state = 42) #80% training, 20% test"
   ]
  },
  {
   "cell_type": "code",
   "execution_count": 9,
   "metadata": {},
   "outputs": [
    {
     "data": {
      "text/html": [
       "<div>\n",
       "<style scoped>\n",
       "    .dataframe tbody tr th:only-of-type {\n",
       "        vertical-align: middle;\n",
       "    }\n",
       "\n",
       "    .dataframe tbody tr th {\n",
       "        vertical-align: top;\n",
       "    }\n",
       "\n",
       "    .dataframe thead th {\n",
       "        text-align: right;\n",
       "    }\n",
       "</style>\n",
       "<table border=\"1\" class=\"dataframe\">\n",
       "  <thead>\n",
       "    <tr style=\"text-align: right;\">\n",
       "      <th></th>\n",
       "      <th>content</th>\n",
       "      <th>sentiment</th>\n",
       "    </tr>\n",
       "  </thead>\n",
       "  <tbody>\n",
       "    <tr>\n",
       "      <th>0</th>\n",
       "      <td>sorry to bother you</td>\n",
       "      <td>0</td>\n",
       "    </tr>\n",
       "    <tr>\n",
       "      <th>1</th>\n",
       "      <td>out of left field</td>\n",
       "      <td>0</td>\n",
       "    </tr>\n",
       "    <tr>\n",
       "      <th>2</th>\n",
       "      <td>that being said</td>\n",
       "      <td>1</td>\n",
       "    </tr>\n",
       "    <tr>\n",
       "      <th>3</th>\n",
       "      <td>I need a partner</td>\n",
       "      <td>1</td>\n",
       "    </tr>\n",
       "    <tr>\n",
       "      <th>4</th>\n",
       "      <td>a no-brainer</td>\n",
       "      <td>1</td>\n",
       "    </tr>\n",
       "  </tbody>\n",
       "</table>\n",
       "</div>"
      ],
      "text/plain": [
       "               content sentiment\n",
       "0  sorry to bother you         0\n",
       "1    out of left field         0\n",
       "2      that being said         1\n",
       "3     I need a partner         1\n",
       "4         a no-brainer         1"
      ]
     },
     "execution_count": 9,
     "metadata": {},
     "output_type": "execute_result"
    }
   ],
   "source": [
    "subcont.head()"
   ]
  },
  {
   "cell_type": "code",
   "execution_count": 10,
   "metadata": {},
   "outputs": [],
   "source": [
    "# Create a CountVectorizer to convert text data into numerical features\n",
    "vectorizer = CountVectorizer()\n",
    "X_train_vec = vectorizer.fit_transform(X_train)\n",
    "X_test_vec = vectorizer.transform(X_test)"
   ]
  },
  {
   "cell_type": "code",
   "execution_count": 13,
   "metadata": {},
   "outputs": [
    {
     "name": "stdout",
     "output_type": "stream",
     "text": [
      "  (0, 40)\t1\n",
      "  (0, 48)\t1\n",
      "  (1, 57)\t1\n",
      "  (1, 63)\t1\n",
      "  (1, 10)\t1\n",
      "  (1, 69)\t1\n",
      "  (2, 31)\t2\n",
      "  (2, 30)\t2\n",
      "  (2, 65)\t1\n",
      "  (3, 59)\t1\n",
      "  (3, 35)\t1\n",
      "  (3, 56)\t1\n",
      "  (4, 4)\t1\n",
      "  (4, 49)\t1\n",
      "  (4, 39)\t1\n",
      "  (4, 33)\t1\n",
      "  (4, 50)\t1\n",
      "  (5, 2)\t1\n",
      "  (6, 44)\t1\n",
      "  (6, 60)\t1\n",
      "  (6, 55)\t1\n",
      "  (6, 47)\t1\n",
      "  (7, 41)\t1\n",
      "  (7, 67)\t1\n",
      "  (8, 2)\t1\n",
      "  :\t:\n",
      "  (792, 33)\t1\n",
      "  (792, 50)\t1\n",
      "  (793, 60)\t1\n",
      "  (793, 53)\t1\n",
      "  (793, 26)\t1\n",
      "  (793, 23)\t1\n",
      "  (794, 38)\t1\n",
      "  (794, 21)\t1\n",
      "  (795, 44)\t1\n",
      "  (795, 60)\t1\n",
      "  (795, 55)\t1\n",
      "  (795, 47)\t1\n",
      "  (796, 41)\t1\n",
      "  (796, 12)\t1\n",
      "  (797, 41)\t1\n",
      "  (797, 67)\t1\n",
      "  (798, 57)\t1\n",
      "  (798, 63)\t1\n",
      "  (798, 10)\t1\n",
      "  (798, 69)\t1\n",
      "  (799, 43)\t1\n",
      "  (799, 45)\t1\n",
      "  (799, 1)\t1\n",
      "  (799, 53)\t1\n",
      "  (799, 27)\t1\n"
     ]
    },
    {
     "data": {
      "text/plain": [
       "array(['absolutely', 'am', 'amazing', 'answer', 'as', 'at', 'back',\n",
       "       'ball', 'bang', 'being', 'bother', 'box', 'brainer', 'buck',\n",
       "       'circle', 'day', 'do', 'end', 'exhausting', 'field', 'for',\n",
       "       'forward', 'get', 'ground', 'hard', 'help', 'hit', 'ideas',\n",
       "       'interesting', 'irregardless', 'is', 'it', 'know', 'last', 'left',\n",
       "       'makes', 'meeting', 'morning', 'moving', 'my', 'need', 'no', 'not',\n",
       "       'of', 'on', 'out', 'outside', 'page', 'partner', 'per', 'post',\n",
       "       'provide', 'rolling', 'running', 'said', 'same', 'sense', 'sorry',\n",
       "       'thanks', 'that', 'the', 'think', 'this', 'to', 'we', 'what',\n",
       "       'will', 'worries', 'write', 'you', 'your'], dtype=object)"
      ]
     },
     "execution_count": 13,
     "metadata": {},
     "output_type": "execute_result"
    }
   ],
   "source": [
    "print(X_train_vec)\n",
    "vectorizer.get_feature_names_out()"
   ]
  },
  {
   "cell_type": "code",
   "execution_count": 16,
   "metadata": {},
   "outputs": [
    {
     "data": {
      "text/html": [
       "<div>\n",
       "<style scoped>\n",
       "    .dataframe tbody tr th:only-of-type {\n",
       "        vertical-align: middle;\n",
       "    }\n",
       "\n",
       "    .dataframe tbody tr th {\n",
       "        vertical-align: top;\n",
       "    }\n",
       "\n",
       "    .dataframe thead th {\n",
       "        text-align: right;\n",
       "    }\n",
       "</style>\n",
       "<table border=\"1\" class=\"dataframe\">\n",
       "  <thead>\n",
       "    <tr style=\"text-align: right;\">\n",
       "      <th></th>\n",
       "      <th>absolutely</th>\n",
       "      <th>am</th>\n",
       "      <th>amazing</th>\n",
       "      <th>answer</th>\n",
       "      <th>as</th>\n",
       "      <th>at</th>\n",
       "      <th>back</th>\n",
       "      <th>ball</th>\n",
       "      <th>bang</th>\n",
       "      <th>being</th>\n",
       "      <th>...</th>\n",
       "      <th>think</th>\n",
       "      <th>this</th>\n",
       "      <th>to</th>\n",
       "      <th>we</th>\n",
       "      <th>what</th>\n",
       "      <th>will</th>\n",
       "      <th>worries</th>\n",
       "      <th>write</th>\n",
       "      <th>you</th>\n",
       "      <th>your</th>\n",
       "    </tr>\n",
       "  </thead>\n",
       "  <tbody>\n",
       "    <tr>\n",
       "      <th>0</th>\n",
       "      <td>0</td>\n",
       "      <td>0</td>\n",
       "      <td>0</td>\n",
       "      <td>0</td>\n",
       "      <td>0</td>\n",
       "      <td>0</td>\n",
       "      <td>0</td>\n",
       "      <td>0</td>\n",
       "      <td>0</td>\n",
       "      <td>0</td>\n",
       "      <td>...</td>\n",
       "      <td>0</td>\n",
       "      <td>0</td>\n",
       "      <td>0</td>\n",
       "      <td>0</td>\n",
       "      <td>0</td>\n",
       "      <td>0</td>\n",
       "      <td>0</td>\n",
       "      <td>0</td>\n",
       "      <td>0</td>\n",
       "      <td>0</td>\n",
       "    </tr>\n",
       "    <tr>\n",
       "      <th>1</th>\n",
       "      <td>0</td>\n",
       "      <td>0</td>\n",
       "      <td>0</td>\n",
       "      <td>0</td>\n",
       "      <td>0</td>\n",
       "      <td>0</td>\n",
       "      <td>0</td>\n",
       "      <td>0</td>\n",
       "      <td>0</td>\n",
       "      <td>0</td>\n",
       "      <td>...</td>\n",
       "      <td>0</td>\n",
       "      <td>0</td>\n",
       "      <td>1</td>\n",
       "      <td>0</td>\n",
       "      <td>0</td>\n",
       "      <td>0</td>\n",
       "      <td>0</td>\n",
       "      <td>0</td>\n",
       "      <td>1</td>\n",
       "      <td>0</td>\n",
       "    </tr>\n",
       "    <tr>\n",
       "      <th>2</th>\n",
       "      <td>0</td>\n",
       "      <td>0</td>\n",
       "      <td>0</td>\n",
       "      <td>0</td>\n",
       "      <td>0</td>\n",
       "      <td>0</td>\n",
       "      <td>0</td>\n",
       "      <td>0</td>\n",
       "      <td>0</td>\n",
       "      <td>0</td>\n",
       "      <td>...</td>\n",
       "      <td>0</td>\n",
       "      <td>0</td>\n",
       "      <td>0</td>\n",
       "      <td>0</td>\n",
       "      <td>1</td>\n",
       "      <td>0</td>\n",
       "      <td>0</td>\n",
       "      <td>0</td>\n",
       "      <td>0</td>\n",
       "      <td>0</td>\n",
       "    </tr>\n",
       "    <tr>\n",
       "      <th>3</th>\n",
       "      <td>0</td>\n",
       "      <td>0</td>\n",
       "      <td>0</td>\n",
       "      <td>0</td>\n",
       "      <td>0</td>\n",
       "      <td>0</td>\n",
       "      <td>0</td>\n",
       "      <td>0</td>\n",
       "      <td>0</td>\n",
       "      <td>0</td>\n",
       "      <td>...</td>\n",
       "      <td>0</td>\n",
       "      <td>0</td>\n",
       "      <td>0</td>\n",
       "      <td>0</td>\n",
       "      <td>0</td>\n",
       "      <td>0</td>\n",
       "      <td>0</td>\n",
       "      <td>0</td>\n",
       "      <td>0</td>\n",
       "      <td>0</td>\n",
       "    </tr>\n",
       "    <tr>\n",
       "      <th>4</th>\n",
       "      <td>0</td>\n",
       "      <td>0</td>\n",
       "      <td>0</td>\n",
       "      <td>0</td>\n",
       "      <td>1</td>\n",
       "      <td>0</td>\n",
       "      <td>0</td>\n",
       "      <td>0</td>\n",
       "      <td>0</td>\n",
       "      <td>0</td>\n",
       "      <td>...</td>\n",
       "      <td>0</td>\n",
       "      <td>0</td>\n",
       "      <td>0</td>\n",
       "      <td>0</td>\n",
       "      <td>0</td>\n",
       "      <td>0</td>\n",
       "      <td>0</td>\n",
       "      <td>0</td>\n",
       "      <td>0</td>\n",
       "      <td>0</td>\n",
       "    </tr>\n",
       "  </tbody>\n",
       "</table>\n",
       "<p>5 rows × 71 columns</p>\n",
       "</div>"
      ],
      "text/plain": [
       "   absolutely  am  amazing  answer  as  at  back  ball  bang  being  ...  \\\n",
       "0           0   0        0       0   0   0     0     0     0      0  ...   \n",
       "1           0   0        0       0   0   0     0     0     0      0  ...   \n",
       "2           0   0        0       0   0   0     0     0     0      0  ...   \n",
       "3           0   0        0       0   0   0     0     0     0      0  ...   \n",
       "4           0   0        0       0   1   0     0     0     0      0  ...   \n",
       "\n",
       "   think  this  to  we  what  will  worries  write  you  your  \n",
       "0      0     0   0   0     0     0        0      0    0     0  \n",
       "1      0     0   1   0     0     0        0      0    1     0  \n",
       "2      0     0   0   0     1     0        0      0    0     0  \n",
       "3      0     0   0   0     0     0        0      0    0     0  \n",
       "4      0     0   0   0     0     0        0      0    0     0  \n",
       "\n",
       "[5 rows x 71 columns]"
      ]
     },
     "execution_count": 16,
     "metadata": {},
     "output_type": "execute_result"
    }
   ],
   "source": [
    "feature_names = vectorizer.get_feature_names_out()\n",
    "X_train_vec_df = pd.DataFrame(X_train_vec.toarray(),columns = feature_names)\n",
    "X_train_vec_df.head()"
   ]
  },
  {
   "cell_type": "code",
   "execution_count": null,
   "metadata": {},
   "outputs": [],
   "source": [
    "# Train a Multinomial Naive Bayes classifier\n",
    "mnb = MultinomialNB()\n",
    "mnb.fit(X_train_vec, y_train)\n"
   ]
  },
  {
   "cell_type": "code",
   "execution_count": null,
   "metadata": {},
   "outputs": [],
   "source": [
    "# Create a CountVectorizer to convert text data into numerical features\n",
    "vectorizer = CountVectorizer()\n",
    "X = vectorizer.fit_transform(subcont)"
   ]
  },
  {
   "cell_type": "code",
   "execution_count": null,
   "metadata": {},
   "outputs": [],
   "source": [
    "X.toarray()"
   ]
  },
  {
   "cell_type": "code",
   "execution_count": null,
   "metadata": {},
   "outputs": [],
   "source": [
    "vectorizer.get_feature_names_out()"
   ]
  },
  {
   "cell_type": "code",
   "execution_count": null,
   "metadata": {},
   "outputs": [],
   "source": [
    "#Split data into training set and test set\n",
    "X_train, X_test, y_train, y_test = train_test_split(X, y, test_size = 0.2, random_state = 42) #80% training, 20% test"
   ]
  },
  {
   "cell_type": "code",
   "execution_count": null,
   "metadata": {},
   "outputs": [],
   "source": [
    "print(X_train.shape, X_test.shape, y_train.shape, y_test.shape)"
   ]
  },
  {
   "cell_type": "code",
   "execution_count": null,
   "metadata": {},
   "outputs": [],
   "source": [
    "# EDA 1: Distribution of Classes\n",
    "class_distribution = feedback['sentiment'].value_counts()\n",
    "class_distribution.plot(kind='pie', autopct='%1.1f%%', colors=['#66b3ff','#99ff99'])\n",
    "plt.title('Distribution of Sentiment')\n",
    "plt.show()"
   ]
  },
  {
   "cell_type": "code",
   "execution_count": null,
   "metadata": {},
   "outputs": [],
   "source": [
    "# Generate WordCloud for Positive Content\n",
    "positive_subject = ' '.join(feedback[feedback['sentiment'] == 'positive']['subject'])\n",
    "positive_wordcloud = WordCloud(width=800, height=400, max_words=100, background_color='white', random_state=42).generate(positive_subject)\n",
    " \n",
    "# Generate WordCloud for Negative Content\n",
    "negative_subject = ' '.join(feedback[feedback['sentiment'] == 'negative']['subject'])\n",
    "negative_wordcloud = WordCloud(width=800, height=400, max_words=100, background_color='white', random_state=42).generate(negative_subject)\n",
    " \n",
    "# Generate WordCloud for Positive Content\n",
    "positive_text = ' '.join(feedback[feedback['sentiment'] == 'positive']['content'])\n",
    "positive_wordcloud2 = WordCloud(width=800, height=400, max_words=100, background_color='white', random_state=42).generate(positive_text)\n",
    " \n",
    "# Generate WordCloud for Negative Content\n",
    "negative_text = ' '.join(feedback[feedback['sentiment'] == 'negative']['content'])\n",
    "negative_wordcloud2 = WordCloud(width=800, height=400, max_words=100, background_color='white', random_state=42).generate(negative_text)\n",
    " \n",
    "# Plot the WordClouds\n",
    "plt.figure(figsize=(10, 4))\n",
    "\n",
    "plt.subplot(1, 2, 1)\n",
    "plt.imshow(positive_wordcloud, interpolation='bilinear')\n",
    "plt.title('Word Cloud for Positive Subjects')\n",
    "plt.axis('off')\n",
    " \n",
    "plt.subplot(1, 2, 2)\n",
    "plt.imshow(negative_wordcloud, interpolation='bilinear')\n",
    "plt.title('Word Cloud for Negative Subjects')\n",
    "plt.axis('off') \n",
    "\n",
    "plt.subplot(1, 2, 1)\n",
    "plt.imshow(positive_wordcloud2, interpolation='bilinear')\n",
    "plt.title('Word Cloud for Positive Feedback')\n",
    "plt.axis('off')\n",
    " \n",
    "plt.subplot(1, 2, 2)\n",
    "plt.imshow(negative_wordcloud2, interpolation='bilinear')\n",
    "plt.title('Word Cloud for Negative Feedback')\n",
    "plt.axis('off')\n",
    " \n",
    "plt.tight_layout()\n",
    "plt.show()"
   ]
  },
  {
   "cell_type": "code",
   "execution_count": null,
   "metadata": {},
   "outputs": [],
   "source": [
    "# Create a CountVectorizer to convert text data into numerical features\n",
    "vectorizer = CountVectorizer()\n",
    "X_train_vec = vectorizer.fit_transform(X_train)\n",
    "X_test_vec = vectorizer.transform(X_test)\n",
    " \n",
    "# Train a Multinomial Naive Bayes classifier\n",
    "mnb = MultinomialNB(alpha=0.8, fit_prior=True, force_alpha=True)\n",
    "mnb.fit(X_train_vec, y_train)"
   ]
  },
  {
   "cell_type": "code",
   "execution_count": null,
   "metadata": {},
   "outputs": [],
   "source": [
    "print(X_train_vec.shape, len(y_train))"
   ]
  },
  {
   "cell_type": "code",
   "execution_count": null,
   "metadata": {},
   "outputs": [],
   "source": [
    "X_train_vec.shape"
   ]
  },
  {
   "cell_type": "code",
   "execution_count": null,
   "metadata": {},
   "outputs": [],
   "source": [
    "X_train.shape"
   ]
  },
  {
   "cell_type": "code",
   "execution_count": null,
   "metadata": {},
   "outputs": [],
   "source": [
    "y_train"
   ]
  },
  {
   "cell_type": "code",
   "execution_count": null,
   "metadata": {},
   "outputs": [],
   "source": [
    "X_train.head()"
   ]
  },
  {
   "cell_type": "code",
   "execution_count": null,
   "metadata": {},
   "outputs": [],
   "source": [
    "if not all(isinstance(text, str) for text in X_train):\n",
    "    raise ValueError(\"X_train should contain text data (strings).\")"
   ]
  }
 ],
 "metadata": {
  "kernelspec": {
   "display_name": "Python 3",
   "language": "python",
   "name": "python3"
  },
  "language_info": {
   "codemirror_mode": {
    "name": "ipython",
    "version": 3
   },
   "file_extension": ".py",
   "mimetype": "text/x-python",
   "name": "python",
   "nbconvert_exporter": "python",
   "pygments_lexer": "ipython3",
   "version": "3.12.3"
  }
 },
 "nbformat": 4,
 "nbformat_minor": 2
}
