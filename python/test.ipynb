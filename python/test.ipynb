{
 "cells": [
  {
   "cell_type": "code",
   "execution_count": 1,
   "metadata": {},
   "outputs": [],
   "source": [
    "import pandas as pd\n",
    "import numpy as np"
   ]
  },
  {
   "cell_type": "code",
   "execution_count": 2,
   "metadata": {},
   "outputs": [],
   "source": [
    "post = pd.read_csv('feedback_posts.csv')"
   ]
  },
  {
   "cell_type": "code",
   "execution_count": 3,
   "metadata": {},
   "outputs": [
    {
     "data": {
      "text/html": [
       "<div>\n",
       "<style scoped>\n",
       "    .dataframe tbody tr th:only-of-type {\n",
       "        vertical-align: middle;\n",
       "    }\n",
       "\n",
       "    .dataframe tbody tr th {\n",
       "        vertical-align: top;\n",
       "    }\n",
       "\n",
       "    .dataframe thead th {\n",
       "        text-align: right;\n",
       "    }\n",
       "</style>\n",
       "<table border=\"1\" class=\"dataframe\">\n",
       "  <thead>\n",
       "    <tr style=\"text-align: right;\">\n",
       "      <th></th>\n",
       "      <th>timestamp</th>\n",
       "      <th>post_id</th>\n",
       "      <th>subject</th>\n",
       "      <th>content</th>\n",
       "      <th>response</th>\n",
       "    </tr>\n",
       "  </thead>\n",
       "  <tbody>\n",
       "    <tr>\n",
       "      <th>0</th>\n",
       "      <td>2024-05-22 09:30:27</td>\n",
       "      <td>1</td>\n",
       "      <td>Data Engineering</td>\n",
       "      <td>bang for your buck</td>\n",
       "      <td>due by end of day</td>\n",
       "    </tr>\n",
       "    <tr>\n",
       "      <th>1</th>\n",
       "      <td>2024-05-22 09:30:26</td>\n",
       "      <td>2</td>\n",
       "      <td>TDD</td>\n",
       "      <td>I need a partner</td>\n",
       "      <td></td>\n",
       "    </tr>\n",
       "    <tr>\n",
       "      <th>2</th>\n",
       "      <td>2024-05-22 09:30:25</td>\n",
       "      <td>3</td>\n",
       "      <td>Guided Project</td>\n",
       "      <td>I do not know what to write</td>\n",
       "      <td>include me in the meeting</td>\n",
       "    </tr>\n",
       "    <tr>\n",
       "      <th>3</th>\n",
       "      <td>2024-05-22 09:30:24</td>\n",
       "      <td>4</td>\n",
       "      <td>Claim</td>\n",
       "      <td>sorry to bother you</td>\n",
       "      <td>we will present this</td>\n",
       "    </tr>\n",
       "    <tr>\n",
       "      <th>4</th>\n",
       "      <td>2024-05-22 09:30:23</td>\n",
       "      <td>5</td>\n",
       "      <td>Personal Insurance</td>\n",
       "      <td>on the same page</td>\n",
       "      <td>happy to help</td>\n",
       "    </tr>\n",
       "  </tbody>\n",
       "</table>\n",
       "</div>"
      ],
      "text/plain": [
       "             timestamp  post_id             subject  \\\n",
       "0  2024-05-22 09:30:27        1    Data Engineering   \n",
       "1  2024-05-22 09:30:26        2                 TDD   \n",
       "2  2024-05-22 09:30:25        3      Guided Project   \n",
       "3  2024-05-22 09:30:24        4               Claim   \n",
       "4  2024-05-22 09:30:23        5  Personal Insurance   \n",
       "\n",
       "                       content                   response  \n",
       "0           bang for your buck          due by end of day  \n",
       "1             I need a partner                             \n",
       "2  I do not know what to write  include me in the meeting  \n",
       "3          sorry to bother you       we will present this  \n",
       "4             on the same page              happy to help  "
      ]
     },
     "execution_count": 3,
     "metadata": {},
     "output_type": "execute_result"
    }
   ],
   "source": [
    "post.head()"
   ]
  },
  {
   "cell_type": "code",
   "execution_count": 4,
   "metadata": {},
   "outputs": [
    {
     "name": "stdout",
     "output_type": "stream",
     "text": [
      "<class 'pandas.core.frame.DataFrame'>\n",
      "RangeIndex: 1000 entries, 0 to 999\n",
      "Data columns (total 5 columns):\n",
      " #   Column     Non-Null Count  Dtype \n",
      "---  ------     --------------  ----- \n",
      " 0   timestamp  1000 non-null   object\n",
      " 1   post_id    1000 non-null   int64 \n",
      " 2   subject    1000 non-null   object\n",
      " 3   content    1000 non-null   object\n",
      " 4   response   1000 non-null   object\n",
      "dtypes: int64(1), object(4)\n",
      "memory usage: 39.2+ KB\n"
     ]
    }
   ],
   "source": [
    "post.info()"
   ]
  }
 ],
 "metadata": {
  "kernelspec": {
   "display_name": "Python 3",
   "language": "python",
   "name": "python3"
  },
  "language_info": {
   "codemirror_mode": {
    "name": "ipython",
    "version": 3
   },
   "file_extension": ".py",
   "mimetype": "text/x-python",
   "name": "python",
   "nbconvert_exporter": "python",
   "pygments_lexer": "ipython3",
   "version": "3.12.3"
  }
 },
 "nbformat": 4,
 "nbformat_minor": 2
}
